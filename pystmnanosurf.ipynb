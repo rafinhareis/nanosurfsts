{
 "cells": [
  {
   "cell_type": "code",
   "execution_count": 5,
   "metadata": {},
   "outputs": [],
   "source": [
    "from os import walk,path,mkdir,listdir\n",
    "from pandas import read_csv, DataFrame\n",
    "from numpy import array, arange, log, sqrt,meshgrid, rot90\n",
    "from scipy import interpolate\n",
    "from scipy.signal import savgol_filter\n",
    "import matplotlib.pyplot as plt\n",
    "from matplotlib.colors import TwoSlopeNorm\n",
    "import ipywidgets as widgets"
   ]
  },
  {
   "cell_type": "code",
   "execution_count": 21,
   "metadata": {},
   "outputs": [],
   "source": [
    "def didv(x,y):\n",
    "  h = x[1]-x[0]\n",
    "  deri_y = []; deri_x =[]\n",
    "  for i in range(1,len(x)-1):\n",
    "    d = (y[i+1]-y[i-1])/(2*h)\n",
    "    deri_x.append(x[i])\n",
    "    deri_y.append(d)\n",
    "  return [array(deri_x),array(deri_y)]\n",
    "\n",
    "def i_V(x,y):\n",
    "  I =[]; V= []\n",
    "  for i in range(1,len(x)-1):\n",
    "    V.append(x[i])\n",
    "    I.append(y[i])\n",
    "  return [array(V),array(I)]\n",
    "\n",
    "def gap_type(dx,dy,delta):\n",
    "    f = interpolate.interp1d(dx, dy)\n",
    "    marker1 = False; marker2 = False\n",
    "\n",
    "    for i in range(len(dx)-1):\n",
    "        if dx[0]<0:\n",
    "            if dx[i]<=0 and dx[i+1]>=0:\n",
    "               indice_x0 = i\n",
    "               break\n",
    "    marker1 = False; marker2 = False\n",
    "\n",
    "    for i in range(len(dx)):\n",
    "        if dx[0]<0:\n",
    "          if i <= indice_x0:\n",
    "            j= indice_x0-i\n",
    "            if f(dx[j])<= delta and marker1 == False:\n",
    "                xmin = dx[j]\n",
    "            else:\n",
    "               marker1 = True\n",
    "\n",
    "          elif i > indice_x0:\n",
    "            j= i \n",
    "            if f(dx[j])<= delta and marker2 == False:\n",
    "                xmax = dx[j]\n",
    "            else:\n",
    "               marker2 = True\n",
    "               \n",
    "    try:\n",
    "        gap = xmax-xmin\n",
    "    except UnboundLocalError:\n",
    "        xmin = 0\n",
    "        xmax = 0\n",
    "        gap = 0\n",
    "    typ = abs(xmax) - abs(xmin)\n",
    "    return [round(gap,2),round(typ,2),xmin,xmax]\n",
    "\n",
    "def load_file(path):\n",
    "    df = read_csv ( path, sep= ';', names= ['x','y','z'])\n",
    "    first_value = df[df.columns[0]].iloc[0] \n",
    "    V = []\n",
    "    for i in range(1,len(df)):\n",
    "        if df[df.columns[0]].iloc[i]  == first_value:\n",
    "            count = i\n",
    "            #V.append(df[df.columns[0]].iloc[i])\n",
    "            break\n",
    "        else:\n",
    "            V.append(df[df.columns[0]].iloc[i])\n",
    "\n",
    "    n = int(len(df)/count)\n",
    "\n",
    "    dataframes = []\n",
    "    names = []\n",
    "    for j in range(n):\n",
    "        sts=[]\n",
    "        volta =[]\n",
    "\n",
    "        for i in range(len(df)):\n",
    "            if i<count :\n",
    "                filtro_alto = 18*pow(10,-9)\n",
    "                filtro_baixo = -filtro_alto\n",
    "                voltagem = df[df.columns[0]].iloc[i]\n",
    "                corrente = df[df.columns[2]].iloc[i+j*count]\n",
    "                if corrente>filtro_baixo and corrente < filtro_alto:\n",
    "                    volta.append(voltagem)\n",
    "                    sts.append(corrente)\n",
    "                else:\n",
    "                    pass\n",
    "            else:\n",
    "                break\n",
    "\n",
    "        V_new = volta\n",
    "        df_new = DataFrame(V_new,columns = ['V'])\n",
    "        df_new['I'+str(j)] = sts\n",
    "        names.append(str(j) )\n",
    "        dataframes.append(df_new)\n",
    "\n",
    "    return [dataframes,names]\n",
    "\n",
    "def select_sts(file, path_file, n = [],smooth = 5,delta = 10):\n",
    "    folder_save = 'sts_saves'\n",
    "    for i in range(1,len(path_file[:-4])):\n",
    "        if path_file[len(path_file[:-4]) -i] == '/':\n",
    "            ct = len(path_file[:-4]) -i\n",
    "            break\n",
    "    try:\n",
    "        folder_name = folder_save+path_file[ct:-4]\n",
    "    except UnboundLocalError:\n",
    "        ct = 0\n",
    "        folder_name = folder_save+'/'+path_file[ct:-4]\n",
    "    try: \n",
    "        mkdir(folder_save)\n",
    "    except FileExistsError:\n",
    "        pass\n",
    "        \n",
    "    paste = folder_name\n",
    "    print(paste)\n",
    "    try:\n",
    "        mkdir(paste)\n",
    "    except FileExistsError:\n",
    "        pass\n",
    "    marker = False\n",
    "    for i in range(len(file[0])):\n",
    "        if (i in n) == False:\n",
    "                #name = path.join(paste,file[1][i])\n",
    "                name = folder_name+'/'+file[1][i]\n",
    "                x= file[0][i][file[0][i].columns[0]];y = file[0][i][file[0][i].columns[1]]*pow(10,9)\n",
    "                p = int(smooth*len(y)/100)\n",
    "                if p%2==0:\n",
    "                    p+=1\n",
    "                    y = savgol_filter(y,p,1)\n",
    "                elif p==0:\n",
    "                    pass\n",
    "                else:\n",
    "                    y = savgol_filter(y,p,1)\n",
    "                dx,dy = didv(x,y)\n",
    "                gap,typ,xmin,xmax = gap_type(dx,dy,delta/100)\n",
    "                if abs(typ)<=0.1:\n",
    "                    tipo = 'neutro'\n",
    "                elif typ<-0.1:\n",
    "                    tipo = 'n'\n",
    "                else:\n",
    "                    tipo = 'p'\n",
    "                f = interpolate.interp1d( file[0][i][file[0][i].columns[0]],file[0][i][file[0][i].columns[1]])\n",
    "                g = interpolate.interp1d(dx,dy)\n",
    "                xnew = arange(dx.min(),dx.max()-0.01,0.01)\n",
    "                df_new = DataFrame({'V':xnew,'I(nA)':f(xnew),'didv':g(xnew),'gap': str(gap),'tipo':str(tipo)}   )\n",
    "                df_new = df_new.set_index('V')\n",
    "                if ct ==0:\n",
    "                    df_new .to_csv(name +'_'+path_file[:-4][ct:]+'.txt') \n",
    "                else:\n",
    "                    df_new .to_csv(name +'_'+path_file[:-4][ct+1:]+'.txt') \n",
    "    print(\"arquivos salvos na pasta \"+ paste)\n",
    "            \n",
    "\n",
    "def plot_curve(curve = 0,smooth = 5,delta = 10):\n",
    "    curve = int(curve)\n",
    "    fig,ax= plt.subplots(1,2,figsize=(20,8))\n",
    "    dfs = file[0]\n",
    "    columns = dfs[curve].columns\n",
    "    x = dfs[curve][columns[0]];y = dfs[curve][columns[1]]*pow(10,9)\n",
    "    p = int(smooth*len(y)/100)\n",
    "    if p%2==0:\n",
    "        p+=1\n",
    "        y = savgol_filter(y,p,1)\n",
    "    elif p==0:\n",
    "        pass\n",
    "    else:\n",
    "        y = savgol_filter(y,p,1)\n",
    "\n",
    "    ax[0].plot(x,y)\n",
    "    ax[0].set_xlabel('Sample bias (V)')\n",
    "    ax[0].set_ylabel('Current (nA)')\n",
    "\n",
    "    dx,dy = didv(x,y)\n",
    "    gap,typ,xmin,xmax = gap_type(dx,dy,delta/100)\n",
    "    if abs(typ)<=0.1:\n",
    "        tipo = 'neutro'\n",
    "    elif typ<-0.1:\n",
    "        tipo = 'n'\n",
    "    else:\n",
    "        tipo = 'p'\n",
    "    dyinterp = interpolate.interp1d(dx,dy)\n",
    "    ymin = dyinterp(xmin)\n",
    "    ymax = dyinterp(xmax)\n",
    "    ax[1].scatter([xmin,xmax],[ymin,ymax],s = 50, color = 'red')\n",
    "    ax[1].plot(dx,dy, label = 'Gap '+ str(gap)+ ': Type ' + tipo)\n",
    "    ax[1].set_xlabel('Sample bias (V)')\n",
    "    ax[1].set_ylabel('dI/dV (arb. units)')\n",
    "    ax[1].legend()    \n",
    "\n",
    "\n",
    "def to_table(path_files):\n",
    "    files = listdir(path_files)\n",
    "    arq_I = open(path_files+'Dataframe_I_complete.csv','w')\n",
    "    arq_didv = open(path_files+'Dataframe_dIdv_complete.csv','w')\n",
    "    lines_I = []\n",
    "    lines_didv = []\n",
    "    marker=False\n",
    "    marker2 = True\n",
    "    for item in files:\n",
    "        if '.txt' in item:\n",
    "            df = read_csv(path_files+item)\n",
    "            number = ''\n",
    "            for car in item:\n",
    "                if car=='_':\n",
    "                    break\n",
    "                number+=car\n",
    "            col = df.columns\n",
    "            x=df[col[0]];y=df[col[1]];dy=df[col[2]]\n",
    "            dy=dy/dy.max()\n",
    "            if marker == False:\n",
    "                tam = len(x)\n",
    "                xmin = len(x)\n",
    "                xlimmin = x.min()\n",
    "                xlimmax = x.max()\n",
    "                lines_I.append([col[0]+'_'+number,',',col[1]+'_'+number])\n",
    "                lines_didv.append([col[0]+'_'+number,',',col[2]+'_'+number])\n",
    "                marker = True\n",
    "                for j in range(len(x)):\n",
    "                    lines_I.append([x[j],',',y[j]])\n",
    "                    lines_didv.append([x[j],',',dy[j]])\n",
    "            else:\n",
    "                if x.min()>=xlimmin:\n",
    "                    xlimmin=x.min()\n",
    "                if x.max()<=xlimmax:\n",
    "                    xlimmax=x.max()\n",
    "\n",
    "                lines_I[0] = lines_I[0]+ [',',col[0]+'_'+number,',',col[1]+'_'+number]\n",
    "                lines_didv[0] = lines_didv[0]+ [',',col[0]+'_'+number,',',col[2]+'_'+number]\n",
    "\n",
    "                if len(x)<=tam:\n",
    "                    for k in range(len(x)):\n",
    "                        lines_I[k+1] = lines_I[k+1]+ [',',x[k],',',y[k]]\n",
    "                        lines_didv[k+1] = lines_didv[k+1]+ [',',x[k],',',dy[k]]\n",
    "                else:\n",
    "                    for k in range(len(x)):\n",
    "                        if k <tam:\n",
    "                            lines_I[k+1] = lines_I[k+1]+ [',',x[k],',',y[k]]\n",
    "                            lines_didv[k+1] = lines_didv[k+1]+ [',',x[k],',',dy[k]]\n",
    "                        else:\n",
    "                            lines_I.append([x[j],',',y[j]])\n",
    "                            lines_didv.append([x[j],',',y[j]])\n",
    "                    tam=len(x)\n",
    "    for line in lines_I:\n",
    "        line = list(map(lambda x:str(x),line))\n",
    "        l = ''\n",
    "        for c in line:\n",
    "            l+=c \n",
    "        arq_I.writelines(l+'\\n')\n",
    "    arq_I.close()\n",
    "    for line in lines_didv:\n",
    "        line = list(map(lambda x:str(x),line))\n",
    "        l = ''\n",
    "        for c in line:\n",
    "            l+=c \n",
    "        arq_didv.writelines(l+'\\n')\n",
    "    arq_didv.close()\n",
    "\n",
    "    for item in files:\n",
    "        if '.txt' in item:\n",
    "            df = read_csv(path_files+item)\n",
    "            number = ''\n",
    "            for car in item:\n",
    "                if car=='_':\n",
    "                    break\n",
    "                number+=car\n",
    "\n",
    "            col = df.columns\n",
    "            x=df[col[0]];y=df[col[1]];dy=df[col[2]]\n",
    "            dy=dy/dy.max()\n",
    "            if marker2:\n",
    "                xnew  = arange(xlimmin,xlimmax,0.01)\n",
    "                f = interpolate.interp1d(x,y)\n",
    "                g = interpolate.interp1d(x,dy)\n",
    "                df2 = DataFrame({'V':xnew,'I_'+number:f(xnew)})\n",
    "                df3 = DataFrame({'V':xnew,'didv_'+number:g(xnew)})\n",
    "                marker2=False\n",
    "            else:\n",
    "                f = interpolate.interp1d(x,y)\n",
    "                g = interpolate.interp1d(x,dy)\n",
    "                df2['I_'+number]=f(xnew)\n",
    "                df3['didv_'+number]=g(xnew)\n",
    "    df2 = df2.set_index('V')\n",
    "    df3 = df3.set_index('V')\n",
    "    df2.to_csv(path_files+'Dataframe_I_limeted_by_V.csv')\n",
    "    df3.to_csv(path_files+'Dataframe_didv_limeted_by_V.csv')\n",
    "\n",
    "def plot(file):\n",
    "    widgets.interact(plot_curve,curve= (0.,len(file[0]),1), smooth = (0.,20,.5),delta = (0.,100,1))\n",
    "\n"
   ]
  },
  {
   "cell_type": "code",
   "execution_count": 22,
   "metadata": {},
   "outputs": [],
   "source": [
    "to_table('sts_saves/Thiago_T6_16_0801262/')"
   ]
  },
  {
   "cell_type": "code",
   "execution_count": 6,
   "metadata": {},
   "outputs": [],
   "source": [
    "path_file = 'Thiago_T6_16_0801262.csv'\n",
    "file = load_file(path_file)"
   ]
  },
  {
   "cell_type": "code",
   "execution_count": 90,
   "metadata": {},
   "outputs": [
    {
     "data": {
      "application/vnd.jupyter.widget-view+json": {
       "model_id": "7de688ab45074c38a1622414b116fd2b",
       "version_major": 2,
       "version_minor": 0
      },
      "text/plain": [
       "interactive(children=(FloatSlider(value=0.0, description='curve', max=20.0, step=1.0), FloatSlider(value=5.0, …"
      ]
     },
     "metadata": {},
     "output_type": "display_data"
    }
   ],
   "source": [
    "plot(file)"
   ]
  },
  {
   "cell_type": "code",
   "execution_count": 16,
   "metadata": {},
   "outputs": [
    {
     "name": "stdout",
     "output_type": "stream",
     "text": [
      "sts_saves/Thiago_T6_16_0801262\n",
      "arquivos salvos na pasta sts_saves/Thiago_T6_16_0801262\n"
     ]
    }
   ],
   "source": [
    "select_sts(file,path_file,n=[0])"
   ]
  },
  {
   "cell_type": "code",
   "execution_count": 1,
   "metadata": {},
   "outputs": [
    {
     "name": "stdout",
     "output_type": "stream",
     "text": [
      "Software de visualizacao de arquivos de STS Nanosurf v1.2.0. Arquivos tipo csv (x,y,z) \n",
      "By Rafael Reis, contato rafinhareis17@gmail.com\n",
      "Se sentir no fundo do coracaozinho, poe meu nome no artigo =D\n"
     ]
    }
   ],
   "source": [
    "import nanosurfpy\n"
   ]
  },
  {
   "cell_type": "code",
   "execution_count": 2,
   "metadata": {},
   "outputs": [
    {
     "data": {
      "application/vnd.jupyter.widget-view+json": {
       "model_id": "1480ac5f5d25431f8c85872253ed1c34",
       "version_major": 2,
       "version_minor": 0
      },
      "text/plain": [
       "interactive(children=(FloatSlider(value=0.0, description='curve', max=20.0, step=1.0), FloatSlider(value=5.0, …"
      ]
     },
     "metadata": {},
     "output_type": "display_data"
    },
    {
     "data": {
      "text/plain": [
       "<nanosurfpy.base.Display at 0x2a67cee8bd0>"
      ]
     },
     "execution_count": 2,
     "metadata": {},
     "output_type": "execute_result"
    }
   ],
   "source": [
    "nanosurfpy.Display('Exemplo/Thiago_T6_16_08.csv')"
   ]
  },
  {
   "cell_type": "code",
   "execution_count": 4,
   "metadata": {},
   "outputs": [
    {
     "name": "stdout",
     "output_type": "stream",
     "text": [
      "arquivos salvos na pasta sts_saves/Thiago_T6_16_0801262\n"
     ]
    },
    {
     "data": {
      "text/plain": [
       "<nanosurfpy.base.select_sts at 0x272fbbb2e50>"
      ]
     },
     "execution_count": 4,
     "metadata": {},
     "output_type": "execute_result"
    }
   ],
   "source": [
    "nanosurfpy.select_sts('Exemplo/Thiago_T6_16_0801262.csv',n=[0,2,3])"
   ]
  }
 ],
 "metadata": {
  "kernelspec": {
   "display_name": "STMnanosurf",
   "language": "python",
   "name": "python3"
  },
  "language_info": {
   "codemirror_mode": {
    "name": "ipython",
    "version": 3
   },
   "file_extension": ".py",
   "mimetype": "text/x-python",
   "name": "python",
   "nbconvert_exporter": "python",
   "pygments_lexer": "ipython3",
   "version": "3.11.7"
  }
 },
 "nbformat": 4,
 "nbformat_minor": 2
}
